{
 "cells": [
  {
   "cell_type": "markdown",
   "source": [
    "# Laden der Daten"
   ],
   "metadata": {
    "collapsed": false
   }
  },
  {
   "cell_type": "code",
   "execution_count": 102,
   "metadata": {
    "collapsed": true
   },
   "outputs": [
    {
     "name": "stdout",
     "output_type": "stream",
     "text": [
      "['alcohol', 'malic_acid', 'ash', 'alcalinity_of_ash', 'magnesium', 'total_phenols', 'flavanoids', 'nonflavanoid_phenols', 'proanthocyanins', 'color_intensity', 'hue', 'od280/od315_of_diluted_wines', 'proline']\n"
     ]
    },
    {
     "data": {
      "text/plain": "   malic_acid   ash  alcalinity_of_ash  magnesium  total_phenols  flavanoids  \\\n0        1.71  2.43               15.6      127.0           2.80        3.06   \n1        1.78  2.14               11.2      100.0           2.65        2.76   \n2        2.36  2.67               18.6      101.0           2.80        3.24   \n3        1.95  2.50               16.8      113.0           3.85        3.49   \n4        2.59  2.87               21.0      118.0           2.80        2.69   \n\n   nonflavanoid_phenols  proanthocyanins  color_intensity   hue  \\\n0                  0.28             2.29             5.64  1.04   \n1                  0.26             1.28             4.38  1.05   \n2                  0.30             2.81             5.68  1.03   \n3                  0.24             2.18             7.80  0.86   \n4                  0.39             1.82             4.32  1.04   \n\n   od280/od315_of_diluted_wines  proline  \n0                          3.92   1065.0  \n1                          3.40   1050.0  \n2                          3.17   1185.0  \n3                          3.45   1480.0  \n4                          2.93    735.0  ",
      "text/html": "<div>\n<style scoped>\n    .dataframe tbody tr th:only-of-type {\n        vertical-align: middle;\n    }\n\n    .dataframe tbody tr th {\n        vertical-align: top;\n    }\n\n    .dataframe thead th {\n        text-align: right;\n    }\n</style>\n<table border=\"1\" class=\"dataframe\">\n  <thead>\n    <tr style=\"text-align: right;\">\n      <th></th>\n      <th>malic_acid</th>\n      <th>ash</th>\n      <th>alcalinity_of_ash</th>\n      <th>magnesium</th>\n      <th>total_phenols</th>\n      <th>flavanoids</th>\n      <th>nonflavanoid_phenols</th>\n      <th>proanthocyanins</th>\n      <th>color_intensity</th>\n      <th>hue</th>\n      <th>od280/od315_of_diluted_wines</th>\n      <th>proline</th>\n    </tr>\n  </thead>\n  <tbody>\n    <tr>\n      <th>0</th>\n      <td>1.71</td>\n      <td>2.43</td>\n      <td>15.6</td>\n      <td>127.0</td>\n      <td>2.80</td>\n      <td>3.06</td>\n      <td>0.28</td>\n      <td>2.29</td>\n      <td>5.64</td>\n      <td>1.04</td>\n      <td>3.92</td>\n      <td>1065.0</td>\n    </tr>\n    <tr>\n      <th>1</th>\n      <td>1.78</td>\n      <td>2.14</td>\n      <td>11.2</td>\n      <td>100.0</td>\n      <td>2.65</td>\n      <td>2.76</td>\n      <td>0.26</td>\n      <td>1.28</td>\n      <td>4.38</td>\n      <td>1.05</td>\n      <td>3.40</td>\n      <td>1050.0</td>\n    </tr>\n    <tr>\n      <th>2</th>\n      <td>2.36</td>\n      <td>2.67</td>\n      <td>18.6</td>\n      <td>101.0</td>\n      <td>2.80</td>\n      <td>3.24</td>\n      <td>0.30</td>\n      <td>2.81</td>\n      <td>5.68</td>\n      <td>1.03</td>\n      <td>3.17</td>\n      <td>1185.0</td>\n    </tr>\n    <tr>\n      <th>3</th>\n      <td>1.95</td>\n      <td>2.50</td>\n      <td>16.8</td>\n      <td>113.0</td>\n      <td>3.85</td>\n      <td>3.49</td>\n      <td>0.24</td>\n      <td>2.18</td>\n      <td>7.80</td>\n      <td>0.86</td>\n      <td>3.45</td>\n      <td>1480.0</td>\n    </tr>\n    <tr>\n      <th>4</th>\n      <td>2.59</td>\n      <td>2.87</td>\n      <td>21.0</td>\n      <td>118.0</td>\n      <td>2.80</td>\n      <td>2.69</td>\n      <td>0.39</td>\n      <td>1.82</td>\n      <td>4.32</td>\n      <td>1.04</td>\n      <td>2.93</td>\n      <td>735.0</td>\n    </tr>\n  </tbody>\n</table>\n</div>"
     },
     "execution_count": 102,
     "metadata": {},
     "output_type": "execute_result"
    }
   ],
   "source": [
    "# load vine dataset from scikit-learn\n",
    "\n",
    "from sklearn.datasets import load_wine\n",
    "import pandas as pd\n",
    "# import train test split\n",
    "from sklearn.model_selection import train_test_split\n",
    "import torch\n",
    "\n",
    "data = load_wine()\n",
    "X = data.data\n",
    "\n",
    "print(data.feature_names)\n",
    "\n",
    "df = pd.DataFrame(X, columns=data.feature_names)\n",
    "df.head()\n",
    "\n",
    "y = df['alcohol']\n",
    "df = df.drop(\"alcohol\", axis=1)\n",
    "df.head()"
   ]
  },
  {
   "cell_type": "markdown",
   "source": [
    "# Scaling der Daten"
   ],
   "metadata": {
    "collapsed": false
   }
  },
  {
   "cell_type": "code",
   "execution_count": 104,
   "outputs": [
    {
     "data": {
      "text/plain": "         0         1         2         3         4         5         6   \\\n0 -0.562250  0.232053 -1.169593  1.913905  0.808997  1.034819 -0.659563   \n1 -0.499413 -0.827996 -2.490847  0.018145  0.568648  0.733629 -0.820719   \n2  0.021231  1.109334 -0.268738  0.088358  0.808997  1.215533 -0.498407   \n3 -0.346811  0.487926 -0.809251  0.930918  2.491446  1.466525 -0.981875   \n4  0.227694  1.840403  0.451946  1.281985  0.808997  0.663351  0.226796   \n\n         7         8         9         10        11  \n0  1.224884  0.251717  0.362177  1.847920  1.013009  \n1 -0.544721 -0.293321  0.406051  1.113449  0.965242  \n2  2.135968  0.269020  0.318304  0.788587  1.395148  \n3  1.032155  1.186068 -0.427544  1.184071  2.334574  \n4  0.401404 -0.319276  0.362177  0.449601 -0.037874  ",
      "text/html": "<div>\n<style scoped>\n    .dataframe tbody tr th:only-of-type {\n        vertical-align: middle;\n    }\n\n    .dataframe tbody tr th {\n        vertical-align: top;\n    }\n\n    .dataframe thead th {\n        text-align: right;\n    }\n</style>\n<table border=\"1\" class=\"dataframe\">\n  <thead>\n    <tr style=\"text-align: right;\">\n      <th></th>\n      <th>0</th>\n      <th>1</th>\n      <th>2</th>\n      <th>3</th>\n      <th>4</th>\n      <th>5</th>\n      <th>6</th>\n      <th>7</th>\n      <th>8</th>\n      <th>9</th>\n      <th>10</th>\n      <th>11</th>\n    </tr>\n  </thead>\n  <tbody>\n    <tr>\n      <th>0</th>\n      <td>-0.562250</td>\n      <td>0.232053</td>\n      <td>-1.169593</td>\n      <td>1.913905</td>\n      <td>0.808997</td>\n      <td>1.034819</td>\n      <td>-0.659563</td>\n      <td>1.224884</td>\n      <td>0.251717</td>\n      <td>0.362177</td>\n      <td>1.847920</td>\n      <td>1.013009</td>\n    </tr>\n    <tr>\n      <th>1</th>\n      <td>-0.499413</td>\n      <td>-0.827996</td>\n      <td>-2.490847</td>\n      <td>0.018145</td>\n      <td>0.568648</td>\n      <td>0.733629</td>\n      <td>-0.820719</td>\n      <td>-0.544721</td>\n      <td>-0.293321</td>\n      <td>0.406051</td>\n      <td>1.113449</td>\n      <td>0.965242</td>\n    </tr>\n    <tr>\n      <th>2</th>\n      <td>0.021231</td>\n      <td>1.109334</td>\n      <td>-0.268738</td>\n      <td>0.088358</td>\n      <td>0.808997</td>\n      <td>1.215533</td>\n      <td>-0.498407</td>\n      <td>2.135968</td>\n      <td>0.269020</td>\n      <td>0.318304</td>\n      <td>0.788587</td>\n      <td>1.395148</td>\n    </tr>\n    <tr>\n      <th>3</th>\n      <td>-0.346811</td>\n      <td>0.487926</td>\n      <td>-0.809251</td>\n      <td>0.930918</td>\n      <td>2.491446</td>\n      <td>1.466525</td>\n      <td>-0.981875</td>\n      <td>1.032155</td>\n      <td>1.186068</td>\n      <td>-0.427544</td>\n      <td>1.184071</td>\n      <td>2.334574</td>\n    </tr>\n    <tr>\n      <th>4</th>\n      <td>0.227694</td>\n      <td>1.840403</td>\n      <td>0.451946</td>\n      <td>1.281985</td>\n      <td>0.808997</td>\n      <td>0.663351</td>\n      <td>0.226796</td>\n      <td>0.401404</td>\n      <td>-0.319276</td>\n      <td>0.362177</td>\n      <td>0.449601</td>\n      <td>-0.037874</td>\n    </tr>\n  </tbody>\n</table>\n</div>"
     },
     "execution_count": 104,
     "metadata": {},
     "output_type": "execute_result"
    }
   ],
   "source": [
    "from sklearn.preprocessing import StandardScaler\n",
    "scaler = StandardScaler()\n",
    "df = scaler.fit_transform(df)\n",
    "df = pd.DataFrame(df)\n",
    "df.head()"
   ],
   "metadata": {
    "collapsed": false
   }
  },
  {
   "cell_type": "markdown",
   "source": [
    "# Split und Konvertierung in Tensors"
   ],
   "metadata": {
    "collapsed": false
   }
  },
  {
   "cell_type": "code",
   "execution_count": 110,
   "outputs": [],
   "source": [
    "x_train, x_test, y_train, y_test = train_test_split(df, y, test_size=0.2, random_state=42)"
   ],
   "metadata": {
    "collapsed": false
   }
  },
  {
   "cell_type": "code",
   "execution_count": 111,
   "outputs": [],
   "source": [
    "x_train = torch.tensor(x_train.values, dtype=torch.float)\n",
    "x_test = torch.tensor(x_test.values, dtype=torch.float)\n",
    "y_train = torch.tensor(y_train.values, dtype=torch.float)\n",
    "y_test= torch.tensor(y_test.values, dtype=torch.float)"
   ],
   "metadata": {
    "collapsed": false
   }
  },
  {
   "cell_type": "code",
   "execution_count": 112,
   "outputs": [
    {
     "data": {
      "text/plain": "torch.Size([142, 12])"
     },
     "execution_count": 112,
     "metadata": {},
     "output_type": "execute_result"
    }
   ],
   "source": [
    "x_train.shape"
   ],
   "metadata": {
    "collapsed": false
   }
  },
  {
   "cell_type": "code",
   "execution_count": 113,
   "outputs": [
    {
     "data": {
      "text/plain": "torch.Size([142])"
     },
     "execution_count": 113,
     "metadata": {},
     "output_type": "execute_result"
    }
   ],
   "source": [
    "y_train.shape"
   ],
   "metadata": {
    "collapsed": false
   }
  },
  {
   "cell_type": "markdown",
   "source": [
    "# Überlegungen zur Netzarchitektur\n",
    "\n",
    "* Wir haben 12 Attribute / Spalten / Features\n",
    "* Wir haben 142 Traingsbeispiele\n",
    "\n",
    "Angenommen, ein HiddenLayer mit 100 Neuronen\n",
    "* w1: von 12 auf 100\n",
    "* w2: von 100 auf 1"
   ],
   "metadata": {
    "collapsed": false
   }
  },
  {
   "cell_type": "code",
   "execution_count": 114,
   "outputs": [],
   "source": [
    "def forward(x):\n",
    "    a2= torch.relu(x @ w1 + b1)\n",
    "    a3 = torch.relu(a2 @ w2 + b2)\n",
    "    y_hat = a3\n",
    "    return y_hat"
   ],
   "metadata": {
    "collapsed": false
   }
  },
  {
   "cell_type": "markdown",
   "source": [
    "# Training"
   ],
   "metadata": {
    "collapsed": false
   }
  },
  {
   "cell_type": "code",
   "execution_count": 122,
   "outputs": [
    {
     "data": {
      "text/plain": "  0%|          | 0/50 [00:00<?, ?it/s]",
      "application/vnd.jupyter.widget-view+json": {
       "version_major": 2,
       "version_minor": 0,
       "model_id": "57252ba6d2654847b7e2e0ec91aabf95"
      }
     },
     "metadata": {},
     "output_type": "display_data"
    },
    {
     "data": {
      "text/plain": "[<matplotlib.lines.Line2D at 0x2400d2c83d0>]"
     },
     "execution_count": 122,
     "metadata": {},
     "output_type": "execute_result"
    },
    {
     "data": {
      "text/plain": "<Figure size 640x480 with 1 Axes>",
      "image/png": "[encoded data removed]"
     },
     "metadata": {},
     "output_type": "display_data"
    }
   ],
   "source": [
    "w1 = torch.normal(size=(12, 100), std=1.0, mean=0.0, requires_grad=True)\n",
    "w2 = torch.normal(size=(100, 1), std=1.0, mean=0.0, requires_grad=True)\n",
    "b1 = torch.tensor(0.0, requires_grad=True)\n",
    "b2 = torch.tensor(0.0, requires_grad=True)\n",
    "lr=0.0001\n",
    "\n",
    "def train(single_x, single_y):\n",
    "    y_hat=forward(single_x)\n",
    "    loss = (y_hat - single_y)**2\n",
    "    loss.backward()\n",
    "    with torch.no_grad():\n",
    "        w1.sub_(w1.grad * lr)\n",
    "        w2.sub_(w2.grad * lr)\n",
    "        b1.sub_(b1.grad * lr)\n",
    "        b2.sub_(b2.grad * lr)\n",
    "        w1.grad.zero_()\n",
    "        w2.grad.zero_()\n",
    "        b1.grad.zero_()\n",
    "        b2.grad.zero_()\n",
    "    return loss.item()\n",
    "\n",
    "losses=[]\n",
    "# import tqdm notebook\n",
    "from tqdm.notebook import tqdm\n",
    "for epoch in tqdm(range(50)):\n",
    "    loss_sum=0\n",
    "    for i in range(len(x_train)):\n",
    "        loss_sum += train(x_train[i], y_train[i])\n",
    "    losses.append(loss_sum/len(x_train))\n",
    "\n",
    "#plot\n",
    "import matplotlib.pyplot as plt\n",
    "plt.plot(losses)"
   ],
   "metadata": {
    "collapsed": false
   }
  },
  {
   "cell_type": "markdown",
   "source": [
    "# Auswertung"
   ],
   "metadata": {
    "collapsed": false
   }
  },
  {
   "cell_type": "code",
   "execution_count": 123,
   "outputs": [
    {
     "name": "stdout",
     "output_type": "stream",
     "text": [
      "mean absolute error: tensor([3.6991], grad_fn=<DivBackward0>)\n"
     ]
    }
   ],
   "source": [
    "errorSum=0\n",
    "for i in range(len(x_test)):\n",
    "    y_hat=forward(x_test[i])\n",
    "    y = y_test[i]\n",
    "    errorSum += torch.abs(y_hat - y)\n",
    "\n",
    "print(\"mean absolute error:\" , errorSum/len(x_test))"
   ],
   "metadata": {
    "collapsed": false
   }
  },
  {
   "cell_type": "code",
   "execution_count": 121,
   "outputs": [
    {
     "name": "stdout",
     "output_type": "stream",
     "text": [
      "y_hat:  tensor([12.0835], grad_fn=<ReluBackward0>) y:  tensor(13.6400)\n",
      "y_hat:  tensor([3.9594], grad_fn=<ReluBackward0>) y:  tensor(14.2100)\n",
      "y_hat:  tensor([15.4683], grad_fn=<ReluBackward0>) y:  tensor(12.9300)\n",
      "y_hat:  tensor([13.5147], grad_fn=<ReluBackward0>) y:  tensor(13.7300)\n",
      "y_hat:  tensor([17.9108], grad_fn=<ReluBackward0>) y:  tensor(12.3700)\n",
      "y_hat:  tensor([16.4815], grad_fn=<ReluBackward0>) y:  tensor(14.3000)\n",
      "y_hat:  tensor([3.3135], grad_fn=<ReluBackward0>) y:  tensor(12.)\n",
      "y_hat:  tensor([13.5028], grad_fn=<ReluBackward0>) y:  tensor(13.4000)\n",
      "y_hat:  tensor([12.4707], grad_fn=<ReluBackward0>) y:  tensor(11.6100)\n",
      "y_hat:  tensor([5.6972], grad_fn=<ReluBackward0>) y:  tensor(13.3600)\n"
     ]
    }
   ],
   "source": [
    "for i in range(10):\n",
    "    y_hat=forward(x_test[i])\n",
    "    y = y_test[i]\n",
    "    print(\"y_hat: \", y_hat, \"y: \", y)"
   ],
   "metadata": {
    "collapsed": false
   }
  },
  {
   "cell_type": "code",
   "execution_count": null,
   "outputs": [],
   "source": [],
   "metadata": {
    "collapsed": false
   }
  }
 ],
 "metadata": {
  "kernelspec": {
   "display_name": "Python 3",
   "language": "python",
   "name": "python3"
  },
  "language_info": {
   "codemirror_mode": {
    "name": "ipython",
    "version": 2
   },
   "file_extension": ".py",
   "mimetype": "text/x-python",
   "name": "python",
   "nbconvert_exporter": "python",
   "pygments_lexer": "ipython2",
   "version": "2.7.6"
  }
 },
 "nbformat": 4,
 "nbformat_minor": 0
}
