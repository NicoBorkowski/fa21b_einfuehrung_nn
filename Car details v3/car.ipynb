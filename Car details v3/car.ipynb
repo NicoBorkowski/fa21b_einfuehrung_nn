{
 "cells": [
  {
   "attachments": {},
   "cell_type": "markdown",
   "metadata": {},
   "source": [
    "# Imports"
   ]
  },
  {
   "cell_type": "code",
   "execution_count": 1,
   "metadata": {},
   "outputs": [],
   "source": [
    "import pandas as pd\n",
    "from sklearn.model_selection import train_test_split\n",
    "import torch"
   ]
  },
  {
   "attachments": {},
   "cell_type": "markdown",
   "metadata": {},
   "source": [
    "# Laden der Daten"
   ]
  },
  {
   "cell_type": "code",
   "execution_count": 2,
   "metadata": {},
   "outputs": [],
   "source": [
    "data = pd.read_csv('Car details v3.csv')\n",
    "data.head()\n",
    "\n",
    "# split engine column and take the first value\n",
    "data['engine'] = data['engine'].str.split(' ').str[0]\n",
    "# split mileage column and take the first value\n",
    "data['mileage'] = data['mileage'].str.split(' ').str[0]\n",
    "# split max_power column and take the first value\n",
    "data['max_power'] = data['max_power'].str.split(' ').str[0]\n",
    "#drop name and torque column\n",
    "data.drop(['name', 'torque'], axis=1, inplace=True)\n",
    "\n"
   ]
  },
  {
   "cell_type": "code",
   "execution_count": 3,
   "metadata": {},
   "outputs": [
    {
     "data": {
      "text/html": [
       "<div>\n",
       "<style scoped>\n",
       "    .dataframe tbody tr th:only-of-type {\n",
       "        vertical-align: middle;\n",
       "    }\n",
       "\n",
       "    .dataframe tbody tr th {\n",
       "        vertical-align: top;\n",
       "    }\n",
       "\n",
       "    .dataframe thead th {\n",
       "        text-align: right;\n",
       "    }\n",
       "</style>\n",
       "<table border=\"1\" class=\"dataframe\">\n",
       "  <thead>\n",
       "    <tr style=\"text-align: right;\">\n",
       "      <th></th>\n",
       "      <th>year</th>\n",
       "      <th>selling_price</th>\n",
       "      <th>km_driven</th>\n",
       "      <th>fuel</th>\n",
       "      <th>seller_type</th>\n",
       "      <th>transmission</th>\n",
       "      <th>owner</th>\n",
       "      <th>mileage</th>\n",
       "      <th>engine</th>\n",
       "      <th>max_power</th>\n",
       "      <th>seats</th>\n",
       "    </tr>\n",
       "  </thead>\n",
       "  <tbody>\n",
       "    <tr>\n",
       "      <th>0</th>\n",
       "      <td>2014</td>\n",
       "      <td>450000</td>\n",
       "      <td>145500</td>\n",
       "      <td>Diesel</td>\n",
       "      <td>Individual</td>\n",
       "      <td>Manual</td>\n",
       "      <td>First Owner</td>\n",
       "      <td>23.4</td>\n",
       "      <td>1248</td>\n",
       "      <td>74</td>\n",
       "      <td>5.0</td>\n",
       "    </tr>\n",
       "    <tr>\n",
       "      <th>1</th>\n",
       "      <td>2014</td>\n",
       "      <td>370000</td>\n",
       "      <td>120000</td>\n",
       "      <td>Diesel</td>\n",
       "      <td>Individual</td>\n",
       "      <td>Manual</td>\n",
       "      <td>Second Owner</td>\n",
       "      <td>21.14</td>\n",
       "      <td>1498</td>\n",
       "      <td>103.52</td>\n",
       "      <td>5.0</td>\n",
       "    </tr>\n",
       "    <tr>\n",
       "      <th>2</th>\n",
       "      <td>2006</td>\n",
       "      <td>158000</td>\n",
       "      <td>140000</td>\n",
       "      <td>Petrol</td>\n",
       "      <td>Individual</td>\n",
       "      <td>Manual</td>\n",
       "      <td>Third Owner</td>\n",
       "      <td>17.7</td>\n",
       "      <td>1497</td>\n",
       "      <td>78</td>\n",
       "      <td>5.0</td>\n",
       "    </tr>\n",
       "    <tr>\n",
       "      <th>3</th>\n",
       "      <td>2010</td>\n",
       "      <td>225000</td>\n",
       "      <td>127000</td>\n",
       "      <td>Diesel</td>\n",
       "      <td>Individual</td>\n",
       "      <td>Manual</td>\n",
       "      <td>First Owner</td>\n",
       "      <td>23.0</td>\n",
       "      <td>1396</td>\n",
       "      <td>90</td>\n",
       "      <td>5.0</td>\n",
       "    </tr>\n",
       "    <tr>\n",
       "      <th>4</th>\n",
       "      <td>2007</td>\n",
       "      <td>130000</td>\n",
       "      <td>120000</td>\n",
       "      <td>Petrol</td>\n",
       "      <td>Individual</td>\n",
       "      <td>Manual</td>\n",
       "      <td>First Owner</td>\n",
       "      <td>16.1</td>\n",
       "      <td>1298</td>\n",
       "      <td>88.2</td>\n",
       "      <td>5.0</td>\n",
       "    </tr>\n",
       "  </tbody>\n",
       "</table>\n",
       "</div>"
      ],
      "text/plain": [
       "   year  selling_price  km_driven    fuel seller_type transmission  \\\n",
       "0  2014         450000     145500  Diesel  Individual       Manual   \n",
       "1  2014         370000     120000  Diesel  Individual       Manual   \n",
       "2  2006         158000     140000  Petrol  Individual       Manual   \n",
       "3  2010         225000     127000  Diesel  Individual       Manual   \n",
       "4  2007         130000     120000  Petrol  Individual       Manual   \n",
       "\n",
       "          owner mileage engine max_power  seats  \n",
       "0   First Owner    23.4   1248        74    5.0  \n",
       "1  Second Owner   21.14   1498    103.52    5.0  \n",
       "2   Third Owner    17.7   1497        78    5.0  \n",
       "3   First Owner    23.0   1396        90    5.0  \n",
       "4   First Owner    16.1   1298      88.2    5.0  "
      ]
     },
     "execution_count": 3,
     "metadata": {},
     "output_type": "execute_result"
    }
   ],
   "source": [
    "data.head()"
   ]
  },
  {
   "attachments": {},
   "cell_type": "markdown",
   "metadata": {},
   "source": [
    "# Datacleaning"
   ]
  },
  {
   "cell_type": "code",
   "execution_count": 4,
   "metadata": {},
   "outputs": [
    {
     "data": {
      "text/html": [
       "<div>\n",
       "<style scoped>\n",
       "    .dataframe tbody tr th:only-of-type {\n",
       "        vertical-align: middle;\n",
       "    }\n",
       "\n",
       "    .dataframe tbody tr th {\n",
       "        vertical-align: top;\n",
       "    }\n",
       "\n",
       "    .dataframe thead th {\n",
       "        text-align: right;\n",
       "    }\n",
       "</style>\n",
       "<table border=\"1\" class=\"dataframe\">\n",
       "  <thead>\n",
       "    <tr style=\"text-align: right;\">\n",
       "      <th></th>\n",
       "      <th>year</th>\n",
       "      <th>selling_price</th>\n",
       "      <th>km_driven</th>\n",
       "      <th>fuel</th>\n",
       "      <th>seller_type</th>\n",
       "      <th>transmission</th>\n",
       "      <th>owner</th>\n",
       "      <th>mileage</th>\n",
       "      <th>engine</th>\n",
       "      <th>max_power</th>\n",
       "      <th>seats</th>\n",
       "    </tr>\n",
       "  </thead>\n",
       "  <tbody>\n",
       "    <tr>\n",
       "      <th>0</th>\n",
       "      <td>2014</td>\n",
       "      <td>450000</td>\n",
       "      <td>145500</td>\n",
       "      <td>1</td>\n",
       "      <td>0.0</td>\n",
       "      <td>0</td>\n",
       "      <td>0</td>\n",
       "      <td>23.40</td>\n",
       "      <td>1248.0</td>\n",
       "      <td>74.00</td>\n",
       "      <td>5.0</td>\n",
       "    </tr>\n",
       "    <tr>\n",
       "      <th>1</th>\n",
       "      <td>2014</td>\n",
       "      <td>370000</td>\n",
       "      <td>120000</td>\n",
       "      <td>1</td>\n",
       "      <td>0.0</td>\n",
       "      <td>0</td>\n",
       "      <td>1</td>\n",
       "      <td>21.14</td>\n",
       "      <td>1498.0</td>\n",
       "      <td>103.52</td>\n",
       "      <td>5.0</td>\n",
       "    </tr>\n",
       "    <tr>\n",
       "      <th>2</th>\n",
       "      <td>2006</td>\n",
       "      <td>158000</td>\n",
       "      <td>140000</td>\n",
       "      <td>0</td>\n",
       "      <td>0.0</td>\n",
       "      <td>0</td>\n",
       "      <td>2</td>\n",
       "      <td>17.70</td>\n",
       "      <td>1497.0</td>\n",
       "      <td>78.00</td>\n",
       "      <td>5.0</td>\n",
       "    </tr>\n",
       "    <tr>\n",
       "      <th>3</th>\n",
       "      <td>2010</td>\n",
       "      <td>225000</td>\n",
       "      <td>127000</td>\n",
       "      <td>1</td>\n",
       "      <td>0.0</td>\n",
       "      <td>0</td>\n",
       "      <td>0</td>\n",
       "      <td>23.00</td>\n",
       "      <td>1396.0</td>\n",
       "      <td>90.00</td>\n",
       "      <td>5.0</td>\n",
       "    </tr>\n",
       "    <tr>\n",
       "      <th>4</th>\n",
       "      <td>2007</td>\n",
       "      <td>130000</td>\n",
       "      <td>120000</td>\n",
       "      <td>0</td>\n",
       "      <td>0.0</td>\n",
       "      <td>0</td>\n",
       "      <td>0</td>\n",
       "      <td>16.10</td>\n",
       "      <td>1298.0</td>\n",
       "      <td>88.20</td>\n",
       "      <td>5.0</td>\n",
       "    </tr>\n",
       "  </tbody>\n",
       "</table>\n",
       "</div>"
      ],
      "text/plain": [
       "   year  selling_price  km_driven  fuel  seller_type  transmission  owner  \\\n",
       "0  2014         450000     145500     1          0.0             0      0   \n",
       "1  2014         370000     120000     1          0.0             0      1   \n",
       "2  2006         158000     140000     0          0.0             0      2   \n",
       "3  2010         225000     127000     1          0.0             0      0   \n",
       "4  2007         130000     120000     0          0.0             0      0   \n",
       "\n",
       "   mileage  engine  max_power  seats  \n",
       "0    23.40  1248.0      74.00    5.0  \n",
       "1    21.14  1498.0     103.52    5.0  \n",
       "2    17.70  1497.0      78.00    5.0  \n",
       "3    23.00  1396.0      90.00    5.0  \n",
       "4    16.10  1298.0      88.20    5.0  "
      ]
     },
     "execution_count": 4,
     "metadata": {},
     "output_type": "execute_result"
    }
   ],
   "source": [
    "# convert mileage, engine and max_power to float\n",
    "data['mileage'] = pd.to_numeric(data['mileage'], errors='coerce') \n",
    "data['engine'] = pd.to_numeric(data['engine'], errors='coerce')\n",
    "data['max_power'] = pd.to_numeric(data['max_power'], errors='coerce')\n",
    "\n",
    "# convert fuel column to numeric\n",
    "data['fuel'] = data['fuel'].map({'Petrol': 0, 'Diesel': 1, 'CNG': 2, 'LPG': 3, 'Electric': 4})\n",
    "\n",
    "# convert seller_type column to numeric\n",
    "data['seller_type'] = data['seller_type'].map({'Individual': 0, 'Dealer': 1})\n",
    "\n",
    "# convert transmission column to numeric\n",
    "data['transmission'] = data['transmission'].map({'Manual': 0, 'Automatic': 1})\n",
    "\n",
    "# convert owner column to numeric\n",
    "data['owner'] = data['owner'].map({'First Owner': 0, 'Second Owner': 1, 'Third Owner': 2, 'Fourth & Above Owner': 3, 'Test Drive Car': 4})\n",
    "\n",
    "data.head()"
   ]
  },
  {
   "cell_type": "code",
   "execution_count": 5,
   "metadata": {},
   "outputs": [],
   "source": [
    "# fill NAN values with mean\n",
    "data['mileage'].fillna(data['mileage'].mean(), inplace=True)\n",
    "data['engine'].fillna(data['engine'].mean(), inplace=True)\n",
    "data['max_power'].fillna(data['max_power'].mean(), inplace=True)\n",
    "data['seller_type'].fillna(data['seller_type'].mean(), inplace=True)\n",
    "data['seats'].fillna(data['seats'].mean(), inplace=True)"
   ]
  },
  {
   "cell_type": "code",
   "execution_count": 6,
   "metadata": {},
   "outputs": [
    {
     "name": "stdout",
     "output_type": "stream",
     "text": [
      "<class 'pandas.core.frame.DataFrame'>\n",
      "RangeIndex: 8128 entries, 0 to 8127\n",
      "Data columns (total 11 columns):\n",
      " #   Column         Non-Null Count  Dtype  \n",
      "---  ------         --------------  -----  \n",
      " 0   year           8128 non-null   int64  \n",
      " 1   selling_price  8128 non-null   int64  \n",
      " 2   km_driven      8128 non-null   int64  \n",
      " 3   fuel           8128 non-null   int64  \n",
      " 4   seller_type    8128 non-null   float64\n",
      " 5   transmission   8128 non-null   int64  \n",
      " 6   owner          8128 non-null   int64  \n",
      " 7   mileage        8128 non-null   float64\n",
      " 8   engine         8128 non-null   float64\n",
      " 9   max_power      8128 non-null   float64\n",
      " 10  seats          8128 non-null   float64\n",
      "dtypes: float64(5), int64(6)\n",
      "memory usage: 698.6 KB\n"
     ]
    }
   ],
   "source": [
    "data.info()"
   ]
  },
  {
   "cell_type": "code",
   "execution_count": 7,
   "metadata": {},
   "outputs": [],
   "source": [
    "y = data['selling_price']\n",
    "import numpy as np\n",
    "y = np.log(y)\n",
    "X = data.drop('selling_price', axis=1)"
   ]
  },
  {
   "attachments": {},
   "cell_type": "markdown",
   "metadata": {},
   "source": [
    "# Scalen der Daten"
   ]
  },
  {
   "cell_type": "code",
   "execution_count": 8,
   "metadata": {},
   "outputs": [
    {
     "data": {
      "text/html": [
       "<div>\n",
       "<style scoped>\n",
       "    .dataframe tbody tr th:only-of-type {\n",
       "        vertical-align: middle;\n",
       "    }\n",
       "\n",
       "    .dataframe tbody tr th {\n",
       "        vertical-align: top;\n",
       "    }\n",
       "\n",
       "    .dataframe thead th {\n",
       "        text-align: right;\n",
       "    }\n",
       "</style>\n",
       "<table border=\"1\" class=\"dataframe\">\n",
       "  <thead>\n",
       "    <tr style=\"text-align: right;\">\n",
       "      <th></th>\n",
       "      <th>0</th>\n",
       "      <th>1</th>\n",
       "      <th>2</th>\n",
       "      <th>3</th>\n",
       "      <th>4</th>\n",
       "      <th>5</th>\n",
       "      <th>6</th>\n",
       "      <th>7</th>\n",
       "      <th>8</th>\n",
       "      <th>9</th>\n",
       "    </tr>\n",
       "  </thead>\n",
       "  <tbody>\n",
       "    <tr>\n",
       "      <th>0</th>\n",
       "      <td>0.048464</td>\n",
       "      <td>1.338363</td>\n",
       "      <td>0.803014</td>\n",
       "      <td>-0.414001</td>\n",
       "      <td>-0.385158</td>\n",
       "      <td>-0.640403</td>\n",
       "      <td>0.999896</td>\n",
       "      <td>-0.423804</td>\n",
       "      <td>-0.495682</td>\n",
       "      <td>-0.440324</td>\n",
       "    </tr>\n",
       "    <tr>\n",
       "      <th>1</th>\n",
       "      <td>0.048464</td>\n",
       "      <td>0.887411</td>\n",
       "      <td>0.803014</td>\n",
       "      <td>-0.414001</td>\n",
       "      <td>-0.385158</td>\n",
       "      <td>0.745063</td>\n",
       "      <td>0.432289</td>\n",
       "      <td>0.079227</td>\n",
       "      <td>0.339607</td>\n",
       "      <td>-0.440324</td>\n",
       "    </tr>\n",
       "    <tr>\n",
       "      <th>2</th>\n",
       "      <td>-1.929775</td>\n",
       "      <td>1.241098</td>\n",
       "      <td>-1.062880</td>\n",
       "      <td>-0.414001</td>\n",
       "      <td>-0.385158</td>\n",
       "      <td>2.130528</td>\n",
       "      <td>-0.431678</td>\n",
       "      <td>0.077215</td>\n",
       "      <td>-0.382499</td>\n",
       "      <td>-0.440324</td>\n",
       "    </tr>\n",
       "    <tr>\n",
       "      <th>3</th>\n",
       "      <td>-0.940656</td>\n",
       "      <td>1.011202</td>\n",
       "      <td>0.803014</td>\n",
       "      <td>-0.414001</td>\n",
       "      <td>-0.385158</td>\n",
       "      <td>-0.640403</td>\n",
       "      <td>0.899435</td>\n",
       "      <td>-0.126009</td>\n",
       "      <td>-0.042951</td>\n",
       "      <td>-0.440324</td>\n",
       "    </tr>\n",
       "    <tr>\n",
       "      <th>4</th>\n",
       "      <td>-1.682495</td>\n",
       "      <td>0.887411</td>\n",
       "      <td>-1.062880</td>\n",
       "      <td>-0.414001</td>\n",
       "      <td>-0.385158</td>\n",
       "      <td>-0.640403</td>\n",
       "      <td>-0.833524</td>\n",
       "      <td>-0.323198</td>\n",
       "      <td>-0.093883</td>\n",
       "      <td>-0.440324</td>\n",
       "    </tr>\n",
       "  </tbody>\n",
       "</table>\n",
       "</div>"
      ],
      "text/plain": [
       "          0         1         2         3         4         5         6  \\\n",
       "0  0.048464  1.338363  0.803014 -0.414001 -0.385158 -0.640403  0.999896   \n",
       "1  0.048464  0.887411  0.803014 -0.414001 -0.385158  0.745063  0.432289   \n",
       "2 -1.929775  1.241098 -1.062880 -0.414001 -0.385158  2.130528 -0.431678   \n",
       "3 -0.940656  1.011202  0.803014 -0.414001 -0.385158 -0.640403  0.899435   \n",
       "4 -1.682495  0.887411 -1.062880 -0.414001 -0.385158 -0.640403 -0.833524   \n",
       "\n",
       "          7         8         9  \n",
       "0 -0.423804 -0.495682 -0.440324  \n",
       "1  0.079227  0.339607 -0.440324  \n",
       "2  0.077215 -0.382499 -0.440324  \n",
       "3 -0.126009 -0.042951 -0.440324  \n",
       "4 -0.323198 -0.093883 -0.440324  "
      ]
     },
     "execution_count": 8,
     "metadata": {},
     "output_type": "execute_result"
    }
   ],
   "source": [
    "from sklearn.preprocessing import StandardScaler\n",
    "scaler = StandardScaler()\n",
    "X = scaler.fit_transform(X)\n",
    "X = pd.DataFrame(X)\n",
    "X.head()"
   ]
  },
  {
   "attachments": {},
   "cell_type": "markdown",
   "metadata": {},
   "source": [
    "# Daten splitten in Test und Train"
   ]
  },
  {
   "cell_type": "code",
   "execution_count": 9,
   "metadata": {},
   "outputs": [],
   "source": [
    "x_train, x_test, y_train, y_test = train_test_split(X, y, test_size=0.2, random_state=42)"
   ]
  },
  {
   "cell_type": "code",
   "execution_count": 10,
   "metadata": {},
   "outputs": [],
   "source": [
    "x_train = torch.tensor(x_train.values, dtype=torch.float)\n",
    "x_test = torch.tensor(x_test.values, dtype=torch.float)\n",
    "y_train = torch.tensor(y_train.values, dtype=torch.float)\n",
    "y_test= torch.tensor(y_test.values, dtype=torch.float)"
   ]
  },
  {
   "cell_type": "code",
   "execution_count": 11,
   "metadata": {},
   "outputs": [
    {
     "data": {
      "text/plain": [
       "torch.Size([6502, 10])"
      ]
     },
     "execution_count": 11,
     "metadata": {},
     "output_type": "execute_result"
    }
   ],
   "source": [
    "x_train.shape"
   ]
  },
  {
   "attachments": {},
   "cell_type": "markdown",
   "metadata": {},
   "source": [
    "# Modell bauen"
   ]
  },
  {
   "cell_type": "code",
   "execution_count": 12,
   "metadata": {},
   "outputs": [],
   "source": [
    "class MySimpleNN(torch.nn.Module):\n",
    "\n",
    "    def __init__(self, input_size=10, hidden_size=(10,20,10), output_size=1):\n",
    "\n",
    "        super(MySimpleNN, self).__init__()\n",
    "            \n",
    "        self.fc1 = torch.nn.Linear(input_size, 10)\n",
    "        self.fc2 = torch.nn.Linear(hidden_size[0],hidden_size[1] )\n",
    "        self.fc3 = torch.nn.Linear(hidden_size[1], hidden_size[2])\n",
    "        self.fc4 = torch.nn.Linear(hidden_size[2], output_size)\n",
    "\n",
    "        self.bn1 = torch.nn.BatchNorm1d(hidden_size[0])\n",
    "        self.bn2 = torch.nn.BatchNorm1d(hidden_size[1])\n",
    "        self.bn3 = torch.nn.BatchNorm1d(hidden_size[2])\n",
    "\n",
    "        \n",
    "    def forward(self, xb):\n",
    "        #print(\"xb.shape: \", xb.shape)\n",
    "        z2 = self.fc1(xb)\n",
    "        #print(\"z2.shape: \", z2.shape)\n",
    "        a2 = torch.relu(z2)\n",
    "        #print(\"a2.shape: \", \"a2.shape\")\n",
    "        a2_bn = self.bn1(a2)\n",
    "        #print(\"a2_bn.shape: \", \"a2_bn.shape\")\n",
    "\n",
    "        z3 = self.fc2(a2_bn)\n",
    "        #print(\"z3.shape: \", \"z3.shape\")\n",
    "        a3 = torch.relu(z3)\n",
    "        #print(\"a3.shape: \", \"a3.shape\")\n",
    "        a3_bn = self.bn2(a3)\n",
    "        #print(\"a3_bn.shape: \", \"a3_bn.shape\")\n",
    "\n",
    "        z4 = self.fc3(a3_bn)\n",
    "        #print(\"z4.shape: \", \"z4.shape\")\n",
    "        a4 = torch.relu(z4)\n",
    "        #print(\"a4.shape: \", \"a4.shape\")\n",
    "        a4_bn = self.bn3(a4)\n",
    "        #print(\"a4_bn.shape: \", \"a4_bn.shape\")\n",
    "\n",
    "        y_hat = torch.relu(self.fc4(a4_bn))\n",
    "        #print(\"y_hat.shape: \", \"y_hat.shape\")\n",
    "\n",
    "        return y_hat"
   ]
  },
  {
   "cell_type": "code",
   "execution_count": 13,
   "metadata": {},
   "outputs": [],
   "source": [
    "def get_batch(x,y, batch_size):\n",
    "    for i in range(0, len(x), batch_size):\n",
    "        yield x[i:i+batch_size], y[i:i+batch_size]"
   ]
  },
  {
   "cell_type": "code",
   "execution_count": 86,
   "metadata": {},
   "outputs": [
    {
     "name": "stdout",
     "output_type": "stream",
     "text": [
      "epoch:  0 loss:  0.6519278905018407 current_lr 0.0005\n",
      "epoch:  10 loss:  0.4746296922818069 current_lr 0.0005\n",
      "epoch:  20 loss:  0.26544692251580343 current_lr 0.0005\n",
      "epoch:  30 loss:  0.13085691410370953 current_lr 0.0005\n",
      "epoch:  40 loss:  0.07597848812421261 current_lr 0.0005\n",
      "epoch:  50 loss:  0.039843643272667435 current_lr 5e-05\n",
      "epoch:  60 loss:  0.028890377996298615 current_lr 5.000000000000001e-07\n",
      "epoch:  70 loss:  0.028770762346444295 current_lr 5.000000000000002e-09\n",
      "epoch:  80 loss:  0.02876912891149741 current_lr 5.000000000000002e-09\n",
      "epoch:  90 loss:  0.028767456461267816 current_lr 5.000000000000002e-09\n"
     ]
    },
    {
     "data": {
      "text/plain": [
       "[<matplotlib.lines.Line2D at 0x7fd2cc029de0>]"
      ]
     },
     "execution_count": 86,
     "metadata": {},
     "output_type": "execute_result"
    },
    {
     "data": {
      "image/png": "[encoded data removed]",
      "text/plain": [
       "<Figure size 640x480 with 1 Axes>"
      ]
     },
     "metadata": {},
     "output_type": "display_data"
    }
   ],
   "source": [
    "model = MySimpleNN(input_size=10, hidden_size=(10,20,10), output_size=1)\n",
    "lr=0.0005\n",
    "batch_size = 256\n",
    "\n",
    "loss_fn = torch.nn.MSELoss()\n",
    "optimizer = torch.optim.Adam(model.parameters(), lr=lr, weight_decay=0.0001)\n",
    "#optimizer = torch.optim.SGD(model.parameters(), lr=lr, momentum=0.7)\n",
    "\n",
    "# Learnrate scheduler\n",
    "scheduler = torch.optim.lr_scheduler.ReduceLROnPlateau(optimizer, mode='min', factor=0.1, patience=3)\n",
    "\n",
    "\n",
    "def train(xb, yb):\n",
    "    y_hat = model(xb)\n",
    "    loss = loss_fn(y_hat, yb)\n",
    "    loss.backward()\n",
    "    optimizer.step()\n",
    "    #with torch.no_grad():\n",
    "    #    for param in model.parameters():\n",
    "    #        param -= lr * param.grad\n",
    "    #    model.zero_grad()\n",
    "    return loss.item()\n",
    "\n",
    "losses=[]\n",
    "for epoch in range(100):\n",
    "    loss_sum=0\n",
    "    for xb, yb in get_batch(x_train, y_train, batch_size):\n",
    "        loss_sum += train(xb, yb)\n",
    "    loss_epoch = loss_sum/len(x_train)\n",
    "    losses.append(loss_epoch)\n",
    "    scheduler.step(loss_epoch)\n",
    "\n",
    "    if epoch%10==0:\n",
    "        print(\"epoch: \", epoch, \"loss: \", loss_epoch, \"current_lr\", optimizer.param_groups[0]['lr'])\n",
    "\n",
    "import matplotlib.pyplot as plt\n",
    "plt.plot(losses)"
   ]
  },
  {
   "cell_type": "code",
   "execution_count": 82,
   "metadata": {},
   "outputs": [
    {
     "name": "stdout",
     "output_type": "stream",
     "text": [
      "Vorhersage:  464169783.42305523 Real:  519999.9011449155\n",
      "Vorhersage:  149538.61099697594 Real:  300000.0539133862\n",
      "Vorhersage:  114495.37183230754 Real:  379999.8510890395\n",
      "Vorhersage:  81884.30929988471 Real:  530000.1620312294\n",
      "Vorhersage:  2457705.7377859484 Real:  334999.9565656248\n",
      "Vorhersage:  555474.6003905032 Real:  79999.97254228884\n",
      "Vorhersage:  4455234.877237778 Real:  399999.87473975326\n",
      "Vorhersage:  97188.29074233469 Real:  1000000.1918526388\n",
      "Vorhersage:  112229.97970549161 Real:  2174999.154171467\n",
      "Vorhersage:  1033268.8662416552 Real:  499999.8565554246\n"
     ]
    }
   ],
   "source": [
    "xb, yb = next(get_batch(x_train, y_train, batch_size=100))\n",
    "y_preds = model(xb)\n",
    "for i in range(10):\n",
    "    print(\"Vorhersage: \", np.exp(y_preds[i].item()), \"Real: \", np.exp(yb[i].item()))\n"
   ]
  },
  {
   "attachments": {},
   "cell_type": "markdown",
   "metadata": {},
   "source": [
    "# Auswertung"
   ]
  },
  {
   "cell_type": "code",
   "execution_count": 83,
   "metadata": {},
   "outputs": [
    {
     "name": "stdout",
     "output_type": "stream",
     "text": [
      "mean absolute error:  tensor([1.7449], grad_fn=<DivBackward0>)\n"
     ]
    }
   ],
   "source": [
    "errorSum = 0\n",
    "for xb, yb in get_batch(x_test, y_test, batch_size):\n",
    "    y_hat = model(xb)\n",
    "    for i in range(len(yb)):\n",
    "        errorSum += abs(yb[i] - y_hat[i])\n",
    "\n",
    "print(\"mean absolute error: \", errorSum/len(x_test))"
   ]
  },
  {
   "cell_type": "code",
   "execution_count": 84,
   "metadata": {},
   "outputs": [
    {
     "name": "stdout",
     "output_type": "stream",
     "text": [
      "y_hat:  tensor([[11.6159],\n",
      "        [11.7503],\n",
      "        [13.1926],\n",
      "        [11.9239],\n",
      "        [11.2319],\n",
      "        [13.1736],\n",
      "        [14.5514],\n",
      "        [13.2574],\n",
      "        [12.3893],\n",
      "        [16.7560]], grad_fn=<ReluBackward0>) y:  tensor([12.1960, 13.1224, 12.9598, 11.9184, 13.1712, 11.9829, 13.0170, 13.2534,\n",
      "        12.0436, 11.8130])\n"
     ]
    }
   ],
   "source": [
    "y_hat = model(x_test[:10])\n",
    "y = y_test[:10]\n",
    "print(\"y_hat: \", y_hat, \"y: \", y)"
   ]
  },
  {
   "cell_type": "code",
   "execution_count": null,
   "metadata": {},
   "outputs": [],
   "source": []
  }
 ],
 "metadata": {
  "kernelspec": {
   "display_name": "Python 3",
   "language": "python",
   "name": "python3"
  },
  "language_info": {
   "codemirror_mode": {
    "name": "ipython",
    "version": 3
   },
   "file_extension": ".py",
   "mimetype": "text/x-python",
   "name": "python",
   "nbconvert_exporter": "python",
   "pygments_lexer": "ipython3",
   "version": "3.10.4"
  },
  "orig_nbformat": 4
 },
 "nbformat": 4,
 "nbformat_minor": 2
}
